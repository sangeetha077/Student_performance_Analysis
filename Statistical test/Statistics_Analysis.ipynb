{
 "cells": [
  {
   "cell_type": "markdown",
   "id": "39686dab-f3da-4966-8b23-7da189820dc0",
   "metadata": {},
   "source": [
    "### Statistics Analysis"
   ]
  },
  {
   "cell_type": "code",
   "execution_count": 1,
   "id": "9e2004c5-c4aa-4974-935c-edaddb38eabc",
   "metadata": {},
   "outputs": [],
   "source": [
    "import pandas as pd"
   ]
  },
  {
   "cell_type": "code",
   "execution_count": 2,
   "id": "1b04a20b-78a0-4bd4-8aec-04914a5c3246",
   "metadata": {},
   "outputs": [],
   "source": [
    "student_data=pd.read_csv(\"../data/cleaned_student_data.csv\")"
   ]
  },
  {
   "cell_type": "code",
   "execution_count": 3,
   "id": "6a3026ac-9697-4078-bae5-13782adfc7fd",
   "metadata": {},
   "outputs": [
    {
     "data": {
      "text/html": [
       "<div>\n",
       "<style scoped>\n",
       "    .dataframe tbody tr th:only-of-type {\n",
       "        vertical-align: middle;\n",
       "    }\n",
       "\n",
       "    .dataframe tbody tr th {\n",
       "        vertical-align: top;\n",
       "    }\n",
       "\n",
       "    .dataframe thead th {\n",
       "        text-align: right;\n",
       "    }\n",
       "</style>\n",
       "<table border=\"1\" class=\"dataframe\">\n",
       "  <thead>\n",
       "    <tr style=\"text-align: right;\">\n",
       "      <th></th>\n",
       "      <th>gender</th>\n",
       "      <th>race/ethnicity</th>\n",
       "      <th>parental_level_of_education</th>\n",
       "      <th>lunch</th>\n",
       "      <th>test_preparation_course</th>\n",
       "      <th>math_score</th>\n",
       "      <th>reading_score</th>\n",
       "      <th>writing_score</th>\n",
       "    </tr>\n",
       "  </thead>\n",
       "  <tbody>\n",
       "    <tr>\n",
       "      <th>0</th>\n",
       "      <td>female</td>\n",
       "      <td>group B</td>\n",
       "      <td>bachelor's degree</td>\n",
       "      <td>standard</td>\n",
       "      <td>none</td>\n",
       "      <td>72</td>\n",
       "      <td>72</td>\n",
       "      <td>74</td>\n",
       "    </tr>\n",
       "    <tr>\n",
       "      <th>1</th>\n",
       "      <td>female</td>\n",
       "      <td>group C</td>\n",
       "      <td>some college</td>\n",
       "      <td>standard</td>\n",
       "      <td>completed</td>\n",
       "      <td>69</td>\n",
       "      <td>90</td>\n",
       "      <td>88</td>\n",
       "    </tr>\n",
       "    <tr>\n",
       "      <th>2</th>\n",
       "      <td>female</td>\n",
       "      <td>group B</td>\n",
       "      <td>master's degree</td>\n",
       "      <td>standard</td>\n",
       "      <td>none</td>\n",
       "      <td>90</td>\n",
       "      <td>95</td>\n",
       "      <td>93</td>\n",
       "    </tr>\n",
       "    <tr>\n",
       "      <th>3</th>\n",
       "      <td>male</td>\n",
       "      <td>group A</td>\n",
       "      <td>associate's degree</td>\n",
       "      <td>free/reduced</td>\n",
       "      <td>none</td>\n",
       "      <td>47</td>\n",
       "      <td>57</td>\n",
       "      <td>44</td>\n",
       "    </tr>\n",
       "    <tr>\n",
       "      <th>4</th>\n",
       "      <td>male</td>\n",
       "      <td>group C</td>\n",
       "      <td>some college</td>\n",
       "      <td>standard</td>\n",
       "      <td>none</td>\n",
       "      <td>76</td>\n",
       "      <td>78</td>\n",
       "      <td>75</td>\n",
       "    </tr>\n",
       "  </tbody>\n",
       "</table>\n",
       "</div>"
      ],
      "text/plain": [
       "   gender race/ethnicity parental_level_of_education         lunch  \\\n",
       "0  female        group B           bachelor's degree      standard   \n",
       "1  female        group C                some college      standard   \n",
       "2  female        group B             master's degree      standard   \n",
       "3    male        group A          associate's degree  free/reduced   \n",
       "4    male        group C                some college      standard   \n",
       "\n",
       "  test_preparation_course  math_score  reading_score  writing_score  \n",
       "0                    none          72             72             74  \n",
       "1               completed          69             90             88  \n",
       "2                    none          90             95             93  \n",
       "3                    none          47             57             44  \n",
       "4                    none          76             78             75  "
      ]
     },
     "execution_count": 3,
     "metadata": {},
     "output_type": "execute_result"
    }
   ],
   "source": [
    "student_data.head()"
   ]
  },
  {
   "cell_type": "markdown",
   "id": "f3af4969-caed-4638-a93f-514fe04a2235",
   "metadata": {},
   "source": [
    "### Descriptive Statistics"
   ]
  },
  {
   "cell_type": "code",
   "execution_count": 4,
   "id": "7da1acb4-bd31-4c04-967d-20566f0c9fde",
   "metadata": {},
   "outputs": [
    {
     "data": {
      "text/html": [
       "<div>\n",
       "<style scoped>\n",
       "    .dataframe tbody tr th:only-of-type {\n",
       "        vertical-align: middle;\n",
       "    }\n",
       "\n",
       "    .dataframe tbody tr th {\n",
       "        vertical-align: top;\n",
       "    }\n",
       "\n",
       "    .dataframe thead th {\n",
       "        text-align: right;\n",
       "    }\n",
       "</style>\n",
       "<table border=\"1\" class=\"dataframe\">\n",
       "  <thead>\n",
       "    <tr style=\"text-align: right;\">\n",
       "      <th></th>\n",
       "      <th>math_score</th>\n",
       "      <th>reading_score</th>\n",
       "      <th>writing_score</th>\n",
       "    </tr>\n",
       "  </thead>\n",
       "  <tbody>\n",
       "    <tr>\n",
       "      <th>count</th>\n",
       "      <td>1000.00000</td>\n",
       "      <td>1000.000000</td>\n",
       "      <td>1000.000000</td>\n",
       "    </tr>\n",
       "    <tr>\n",
       "      <th>mean</th>\n",
       "      <td>66.08900</td>\n",
       "      <td>69.169000</td>\n",
       "      <td>68.054000</td>\n",
       "    </tr>\n",
       "    <tr>\n",
       "      <th>std</th>\n",
       "      <td>15.16308</td>\n",
       "      <td>14.600192</td>\n",
       "      <td>15.195657</td>\n",
       "    </tr>\n",
       "    <tr>\n",
       "      <th>min</th>\n",
       "      <td>0.00000</td>\n",
       "      <td>17.000000</td>\n",
       "      <td>10.000000</td>\n",
       "    </tr>\n",
       "    <tr>\n",
       "      <th>25%</th>\n",
       "      <td>57.00000</td>\n",
       "      <td>59.000000</td>\n",
       "      <td>57.750000</td>\n",
       "    </tr>\n",
       "    <tr>\n",
       "      <th>50%</th>\n",
       "      <td>66.00000</td>\n",
       "      <td>70.000000</td>\n",
       "      <td>69.000000</td>\n",
       "    </tr>\n",
       "    <tr>\n",
       "      <th>75%</th>\n",
       "      <td>77.00000</td>\n",
       "      <td>79.000000</td>\n",
       "      <td>79.000000</td>\n",
       "    </tr>\n",
       "    <tr>\n",
       "      <th>max</th>\n",
       "      <td>100.00000</td>\n",
       "      <td>100.000000</td>\n",
       "      <td>100.000000</td>\n",
       "    </tr>\n",
       "  </tbody>\n",
       "</table>\n",
       "</div>"
      ],
      "text/plain": [
       "       math_score  reading_score  writing_score\n",
       "count  1000.00000    1000.000000    1000.000000\n",
       "mean     66.08900      69.169000      68.054000\n",
       "std      15.16308      14.600192      15.195657\n",
       "min       0.00000      17.000000      10.000000\n",
       "25%      57.00000      59.000000      57.750000\n",
       "50%      66.00000      70.000000      69.000000\n",
       "75%      77.00000      79.000000      79.000000\n",
       "max     100.00000     100.000000     100.000000"
      ]
     },
     "execution_count": 4,
     "metadata": {},
     "output_type": "execute_result"
    }
   ],
   "source": [
    "student_data.describe()"
   ]
  },
  {
   "cell_type": "code",
   "execution_count": 5,
   "id": "1a656c6f-0d55-4b26-9273-05f1a455ec48",
   "metadata": {},
   "outputs": [
    {
     "name": "stdout",
     "output_type": "stream",
     "text": [
      "gender\n",
      "female    518\n",
      "male      482\n",
      "Name: count, dtype: int64\n"
     ]
    }
   ],
   "source": [
    "print(student_data['gender'].value_counts())\n"
   ]
  },
  {
   "cell_type": "code",
   "execution_count": 6,
   "id": "87599cd4-1f8f-41b0-892b-16ab435f8fe8",
   "metadata": {},
   "outputs": [
    {
     "name": "stdout",
     "output_type": "stream",
     "text": [
      "race/ethnicity\n",
      "group C    319\n",
      "group D    262\n",
      "group B    190\n",
      "group E    140\n",
      "group A     89\n",
      "Name: count, dtype: int64\n"
     ]
    }
   ],
   "source": [
    "print(student_data['race/ethnicity'].value_counts())\n"
   ]
  },
  {
   "cell_type": "code",
   "execution_count": 7,
   "id": "6685e8a6-89e8-42d0-884b-0b9922ae3d8d",
   "metadata": {},
   "outputs": [
    {
     "name": "stdout",
     "output_type": "stream",
     "text": [
      "lunch\n",
      "standard        645\n",
      "free/reduced    355\n",
      "Name: count, dtype: int64\n"
     ]
    }
   ],
   "source": [
    "print(student_data['lunch'].value_counts())\n"
   ]
  },
  {
   "cell_type": "code",
   "execution_count": 8,
   "id": "5c1694b5-b283-43dc-a652-a6f9d477b7ba",
   "metadata": {},
   "outputs": [
    {
     "name": "stdout",
     "output_type": "stream",
     "text": [
      "parental_level_of_education\n",
      "some college          226\n",
      "associate's degree    222\n",
      "high school           196\n",
      "some high school      179\n",
      "bachelor's degree     118\n",
      "master's degree        59\n",
      "Name: count, dtype: int64\n"
     ]
    }
   ],
   "source": [
    "print(student_data['parental_level_of_education'].value_counts())\n"
   ]
  },
  {
   "cell_type": "code",
   "execution_count": 9,
   "id": "9aa4a9f2-e01a-4199-adf5-f8cc9b2184ac",
   "metadata": {},
   "outputs": [
    {
     "name": "stdout",
     "output_type": "stream",
     "text": [
      "test_preparation_course\n",
      "none         642\n",
      "completed    358\n",
      "Name: count, dtype: int64\n"
     ]
    }
   ],
   "source": [
    "print(student_data['test_preparation_course'].value_counts())\n"
   ]
  },
  {
   "cell_type": "markdown",
   "id": "0ad9a0df-98e5-44bf-b2c1-abbed0eca6e4",
   "metadata": {},
   "source": [
    "### T-Test"
   ]
  },
  {
   "cell_type": "markdown",
   "id": "043e4ae7-71e5-4497-a1bf-5490c3795689",
   "metadata": {},
   "source": [
    "### 1.Does Test Preparation Make a Difference in Scores?"
   ]
  },
  {
   "cell_type": "raw",
   "id": "fbefc37e-5c5a-4b94-b408-ec7f29b4de59",
   "metadata": {},
   "source": [
    "Null Hypothesis (h0):\n",
    "There is no difference in average scores between students who completed test preparation and those who did not.\n",
    "Alternative Hypothesis (H1):\n",
    "There is a difference in average scores between students who completed test preparation and those who did not.\n",
    "\n",
    "\n"
   ]
  },
  {
   "cell_type": "code",
   "execution_count": 10,
   "id": "ed0125b5-595f-4211-a53f-91c3eb3ef26b",
   "metadata": {},
   "outputs": [],
   "source": [
    "import pandas as pd\n",
    "from scipy.stats import ttest_ind"
   ]
  },
  {
   "cell_type": "code",
   "execution_count": 11,
   "id": "a15c7d4e-739e-40fd-a7dc-5fb12ce727ef",
   "metadata": {},
   "outputs": [
    {
     "name": "stdout",
     "output_type": "stream",
     "text": [
      "math_score - t-statistic: 5.787, p-value: 0.0000\n",
      "reading_score - t-statistic: 8.004, p-value: 0.0000\n",
      "writing_score - t-statistic: 10.753, p-value: 0.0000\n"
     ]
    }
   ],
   "source": [
    "\n",
    "completed_preparation = student_data[student_data['test_preparation_course'] == 'completed']\n",
    "no_preparation = student_data[student_data['test_preparation_course'] == 'none']\n",
    "\n",
    "subjects = ['math_score', 'reading_score', 'writing_score']\n",
    "for subject in subjects:\n",
    "    t_stat, p_val = ttest_ind(completed_preparation[subject], no_preparation[subject], equal_var=False)\n",
    "    print(f\"{subject} - t-statistic: {t_stat:.3f}, p-value: {p_val:.4f}\")\n"
   ]
  },
  {
   "cell_type": "markdown",
   "id": "71e35343-ef13-4146-a338-04434fe2e8f0",
   "metadata": {},
   "source": [
    "All p-values < 0.05 = We reject the null hypothesis.\n",
    "\n",
    "\n",
    "\n"
   ]
  },
  {
   "cell_type": "markdown",
   "id": "a46951e5-8344-4d82-83e3-d07c397f6d29",
   "metadata": {},
   "source": [
    "\n",
    "#### Completing the test preparation course significantly improves scores in Math, Reading, and Writing."
   ]
  },
  {
   "cell_type": "markdown",
   "id": "ffef0585-851e-4d45-8573-7dc3a410eaba",
   "metadata": {},
   "source": [
    "### Chi Square test"
   ]
  },
  {
   "cell_type": "markdown",
   "id": "0b288710-0a15-48a0-b2ea-7d7e75472cbf",
   "metadata": {},
   "source": [
    "### 2.who needs the test prepation course male or female"
   ]
  },
  {
   "cell_type": "raw",
   "id": "6d52c5ac-c7ba-4c29-b3a8-6b01c04b8fc7",
   "metadata": {},
   "source": [
    "Null Hypothesis (H0):\n",
    "Gender and Test Preparation Completion are independent \n",
    "\n",
    "Alternative Hypothesis (H1):\n",
    "Gender and Test Preparation Completion are dependent \n"
   ]
  },
  {
   "cell_type": "code",
   "execution_count": 12,
   "id": "40c193f1-2784-4b01-94b5-161a62466b0c",
   "metadata": {},
   "outputs": [
    {
     "name": "stdout",
     "output_type": "stream",
     "text": [
      "Chi2 Statistic: 0.0155\n",
      "P-Value: 0.9008\n",
      "Degrees of Freedom: 1\n",
      "\n",
      "Expected Frequencies Table:\n",
      "[[185.444 332.556]\n",
      " [172.556 309.444]]\n"
     ]
    }
   ],
   "source": [
    "import pandas as pd\n",
    "from scipy.stats import chi2_contingency\n",
    "\n",
    "contingency_table = pd.crosstab(student_data['gender'], student_data['test_preparation_course'])\n",
    "chi2, p_value, dof, expected = chi2_contingency(contingency_table)\n",
    "\n",
    "print(f\"Chi2 Statistic: {chi2:.4f}\")\n",
    "print(f\"P-Value: {p_value:.4f}\")\n",
    "print(f\"Degrees of Freedom: {dof}\")\n",
    "print(\"\\nExpected Frequencies Table:\")\n",
    "print(expected)\n"
   ]
  },
  {
   "cell_type": "markdown",
   "id": "292dc37d-0be5-4b1d-a918-f27834ed646c",
   "metadata": {},
   "source": [
    "P-Value = 0.8315 > 0.05=We fail to reject the null hypothesis.\n",
    "\n",
    "Gender and Test Preparation are independent.\n",
    "\n",
    " Males and females have similar completion rates — no strong relationship!\n"
   ]
  },
  {
   "cell_type": "markdown",
   "id": "a8d409f3-54e3-4d76-9d31-bd15968846cf",
   "metadata": {},
   "source": [
    "Based on the Chi-Square test, there is no statistically significant association between gender and test preparation course completion.\n",
    "Both males and females complete the course at similar rates.\n",
    "\n"
   ]
  },
  {
   "cell_type": "markdown",
   "id": "7cc05c09-71b3-4524-8357-e23d46c7d779",
   "metadata": {},
   "source": [
    "### Chi-Square Test"
   ]
  },
  {
   "cell_type": "markdown",
   "id": "eb7fd6c4-79e9-4178-8c2d-69c113d7f3ef",
   "metadata": {},
   "source": [
    "### which ethinicity need preparation score"
   ]
  },
  {
   "cell_type": "markdown",
   "id": "2ce945c3-ebf1-4b8a-95be-61a116472fe1",
   "metadata": {},
   "source": [
    "Null Hypothesis:\n",
    "There is no association between ethnicity and test preparation course.\n",
    "\n",
    "Alternative Hypothesis :\n",
    "There is an association between ethnicity and test preparation course.\n",
    "\n"
   ]
  },
  {
   "cell_type": "code",
   "execution_count": 13,
   "id": "22e01530-1b09-4318-b9ef-831cc81ed29f",
   "metadata": {},
   "outputs": [
    {
     "name": "stdout",
     "output_type": "stream",
     "text": [
      "Cross Tabulation Table:\n",
      " test_preparation_course  completed  none\n",
      "race/ethnicity                          \n",
      "group A                         31    58\n",
      "group B                         68   122\n",
      "group C                        117   202\n",
      "group D                         82   180\n",
      "group E                         60    80\n",
      "\n",
      "Chi-Square Test Results:\n",
      "Chi2 Statistic: 5.4875148857070695\n",
      "p-value: 0.24082911295018397\n",
      "Degrees of Freedom: 4\n",
      "\n",
      "Expected Frequencies Table:\n",
      " [[ 31.862  57.138]\n",
      " [ 68.02  121.98 ]\n",
      " [114.202 204.798]\n",
      " [ 93.796 168.204]\n",
      " [ 50.12   89.88 ]]\n"
     ]
    }
   ],
   "source": [
    "import pandas as pd\n",
    "from scipy.stats import chi2_contingency\n",
    "\n",
    "table = pd.crosstab(student_data['race/ethnicity'],student_data['test_preparation_course'])\n",
    "\n",
    "print(\"Cross Tabulation Table:\\n\", table)\n",
    "\n",
    "chi2, p_value, dof, expected = chi2_contingency(table)\n",
    "\n",
    "print(\"\\nChi-Square Test Results:\")\n",
    "print(f\"Chi2 Statistic: {chi2}\")\n",
    "print(f\"p-value: {p_value}\")\n",
    "print(f\"Degrees of Freedom: {dof}\")\n",
    "print(\"\\nExpected Frequencies Table:\\n\", expected)\n"
   ]
  },
  {
   "cell_type": "markdown",
   "id": "5fb488c9-ac18-45b1-ad1e-7a67f4909090",
   "metadata": {},
   "source": [
    "Since the p-value (0.241) is greater than 0.05, \n",
    "we fail to reject the null hypothesis.\n",
    "Therefore, there is no statistically significant association between the variables."
   ]
  },
  {
   "cell_type": "markdown",
   "id": "e5baf1e0-5542-4cec-a2d6-3b1bb06e4c14",
   "metadata": {},
   "source": [
    "Different ethnic groups participate differently in test preparation.\n",
    "We should help those groups who are completing it less, to give everyone a fair academic chance.\n",
    "\n"
   ]
  },
  {
   "cell_type": "code",
   "execution_count": null,
   "id": "f481ea7e-06d7-48c6-a909-f9cd9c095f9c",
   "metadata": {},
   "outputs": [],
   "source": []
  }
 ],
 "metadata": {
  "kernelspec": {
   "display_name": "base",
   "language": "python",
   "name": "python3"
  },
  "language_info": {
   "codemirror_mode": {
    "name": "ipython",
    "version": 3
   },
   "file_extension": ".py",
   "mimetype": "text/x-python",
   "name": "python",
   "nbconvert_exporter": "python",
   "pygments_lexer": "ipython3",
   "version": "3.12.7"
  }
 },
 "nbformat": 4,
 "nbformat_minor": 5
}
