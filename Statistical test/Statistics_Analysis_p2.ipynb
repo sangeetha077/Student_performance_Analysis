{
 "cells": [
  {
   "cell_type": "code",
   "execution_count": 1,
   "id": "9fdd2d30-1df1-43ec-b521-70718d235fda",
   "metadata": {},
   "outputs": [],
   "source": [
    "# Necessary Libraries\n",
    "import pandas as pd\n",
    "import numpy as np\n",
    "import matplotlib.pyplot as plt \n",
    "from scipy import stats\n",
    "from statsmodels.formula.api import ols\n",
    "import statsmodels.api as sm"
   ]
  },
  {
   "cell_type": "code",
   "execution_count": null,
   "id": "332873f9-176b-4cee-968d-552919b0bb43",
   "metadata": {},
   "outputs": [],
   "source": []
  },
  {
   "cell_type": "code",
   "execution_count": 2,
   "id": "4d9e4d71-d69c-4cec-8e24-790e6e89b80e",
   "metadata": {},
   "outputs": [
    {
     "data": {
      "text/html": [
       "<div>\n",
       "<style scoped>\n",
       "    .dataframe tbody tr th:only-of-type {\n",
       "        vertical-align: middle;\n",
       "    }\n",
       "\n",
       "    .dataframe tbody tr th {\n",
       "        vertical-align: top;\n",
       "    }\n",
       "\n",
       "    .dataframe thead th {\n",
       "        text-align: right;\n",
       "    }\n",
       "</style>\n",
       "<table border=\"1\" class=\"dataframe\">\n",
       "  <thead>\n",
       "    <tr style=\"text-align: right;\">\n",
       "      <th></th>\n",
       "      <th>gender</th>\n",
       "      <th>race/ethnicity</th>\n",
       "      <th>parental_level_of_education</th>\n",
       "      <th>lunch</th>\n",
       "      <th>test_preparation_course</th>\n",
       "      <th>math_score</th>\n",
       "      <th>reading_score</th>\n",
       "      <th>writing_score</th>\n",
       "    </tr>\n",
       "  </thead>\n",
       "  <tbody>\n",
       "    <tr>\n",
       "      <th>0</th>\n",
       "      <td>female</td>\n",
       "      <td>group B</td>\n",
       "      <td>bachelor's degree</td>\n",
       "      <td>standard</td>\n",
       "      <td>none</td>\n",
       "      <td>72</td>\n",
       "      <td>72</td>\n",
       "      <td>74</td>\n",
       "    </tr>\n",
       "    <tr>\n",
       "      <th>1</th>\n",
       "      <td>female</td>\n",
       "      <td>group C</td>\n",
       "      <td>some college</td>\n",
       "      <td>standard</td>\n",
       "      <td>completed</td>\n",
       "      <td>69</td>\n",
       "      <td>90</td>\n",
       "      <td>88</td>\n",
       "    </tr>\n",
       "    <tr>\n",
       "      <th>2</th>\n",
       "      <td>female</td>\n",
       "      <td>group B</td>\n",
       "      <td>master's degree</td>\n",
       "      <td>standard</td>\n",
       "      <td>none</td>\n",
       "      <td>90</td>\n",
       "      <td>95</td>\n",
       "      <td>93</td>\n",
       "    </tr>\n",
       "    <tr>\n",
       "      <th>3</th>\n",
       "      <td>male</td>\n",
       "      <td>group A</td>\n",
       "      <td>associate's degree</td>\n",
       "      <td>free/reduced</td>\n",
       "      <td>none</td>\n",
       "      <td>47</td>\n",
       "      <td>57</td>\n",
       "      <td>44</td>\n",
       "    </tr>\n",
       "    <tr>\n",
       "      <th>4</th>\n",
       "      <td>male</td>\n",
       "      <td>group C</td>\n",
       "      <td>some college</td>\n",
       "      <td>standard</td>\n",
       "      <td>none</td>\n",
       "      <td>76</td>\n",
       "      <td>78</td>\n",
       "      <td>75</td>\n",
       "    </tr>\n",
       "  </tbody>\n",
       "</table>\n",
       "</div>"
      ],
      "text/plain": [
       "   gender race/ethnicity parental_level_of_education         lunch  \\\n",
       "0  female        group B           bachelor's degree      standard   \n",
       "1  female        group C                some college      standard   \n",
       "2  female        group B             master's degree      standard   \n",
       "3    male        group A          associate's degree  free/reduced   \n",
       "4    male        group C                some college      standard   \n",
       "\n",
       "  test_preparation_course  math_score  reading_score  writing_score  \n",
       "0                    none          72             72             74  \n",
       "1               completed          69             90             88  \n",
       "2                    none          90             95             93  \n",
       "3                    none          47             57             44  \n",
       "4                    none          76             78             75  "
      ]
     },
     "execution_count": 2,
     "metadata": {},
     "output_type": "execute_result"
    }
   ],
   "source": [
    "df = pd.read_csv('../data/cleaned_student_data.csv')\n",
    "df.head()"
   ]
  },
  {
   "cell_type": "markdown",
   "id": "569a1178-7e7c-4e12-a7b1-e64335de2d22",
   "metadata": {},
   "source": [
    "## **Using One-way ANOVA, Comparing the mean marks of students from three different test.**"
   ]
  },
  {
   "cell_type": "markdown",
   "id": "59ff6e3d-b9f5-465c-b506-79ae893bc2a2",
   "metadata": {},
   "source": [
    "    Hypothesis state:\n",
    "        Null hypothesis : there is no significance difference between the different test score means.\n",
    "        Altenative hypothsis : There is significance difference between the different test score means.\n",
    "\n",
    "    Significance level = 0.05"
   ]
  },
  {
   "cell_type": "code",
   "execution_count": 3,
   "id": "9ce2097f-944f-4bf3-b049-fa1990041579",
   "metadata": {},
   "outputs": [
    {
     "name": "stdout",
     "output_type": "stream",
     "text": [
      "F-stats : 10.82\n",
      "P-value : 0.0000\n",
      "\n",
      "Since 0.0000 < 0.05, Reject Null hypothesis\n",
      "There is significance difference between the different test score means.\n"
     ]
    }
   ],
   "source": [
    "math_score = df['math_score']\n",
    "reading_score = df['reading_score']\n",
    "writing_score = df['writing_score']\n",
    "\n",
    "f_stats, p_value = stats.f_oneway(math_score, reading_score, writing_score)\n",
    "print(f'F-stats : {f_stats:.2f}')\n",
    "print(f'P-value : {p_value:.4f}\\n')\n",
    "\n",
    "if p_value < 0.05:\n",
    "    print(f'Since {p_value:0.4f} < 0.05, Reject Null hypothesis')\n",
    "    print('There is significance difference between the different test score means.')\n",
    "else:\n",
    "    print(f'Since {p_value:.4f} > 0.05, Fail to reject Null hypothesis')\n",
    "    print('There is no significance difference between the different test score means.')"
   ]
  },
  {
   "cell_type": "markdown",
   "id": "de067d9a-1b2c-4aaf-839c-70096270b795",
   "metadata": {},
   "source": [
    "# **Chi-Square Tests – Goodness of Fit**"
   ]
  },
  {
   "cell_type": "markdown",
   "id": "4c358154-2f52-4aa8-9c1e-737b6032dbf9",
   "metadata": {},
   "source": [
    "    There were 1000 students sit in the test. We expected equal participation from each enthincity.\n",
    "\n",
    "    Hypothesis state:\n",
    "        Null hypothesis : there is no significance difference between observed and expected values.\n",
    "        Altenative hypothsis : There is significance difference between observed and expected values.\n",
    "\n",
    "    Significance level = 0.05"
   ]
  },
  {
   "cell_type": "code",
   "execution_count": 4,
   "id": "1063f9a1-a496-40aa-b069-b0aa0cd1ee12",
   "metadata": {},
   "outputs": [
    {
     "name": "stdout",
     "output_type": "stream",
     "text": [
      "Chi-Square Goodness of Fit Test = 170.13\n",
      "P-value : 0.0000\n",
      "\n",
      "Since 0.0000 < 0.05, Reject Null hypothesis\n",
      "There is significance difference between observed and expected values\n"
     ]
    }
   ],
   "source": [
    "by_ethnicity = df.groupby('race/ethnicity').agg(count=('race/ethnicity', 'count'))\n",
    "observed = by_ethnicity['count']\n",
    "expected = [1000//len(by_ethnicity.index)]*len(by_ethnicity.index) #Since we expect equal participation from each ethnicity group\n",
    "\n",
    "chi2, p_value = stats.chisquare(f_obs=observed, f_exp=expected)\n",
    "print(f'Chi-Square Goodness of Fit Test = {chi2}')\n",
    "print(f'P-value : {p_value:.4f}\\n')\n",
    "\n",
    "if p_value < 0.05:\n",
    "    print(f'Since {p_value:0.4f} < 0.05, Reject Null hypothesis')\n",
    "    print('There is significance difference between observed and expected values')\n",
    "else:\n",
    "    print(f'Since {p_value:.4f} > 0.05, Fail to reject Null hypothesis')\n",
    "    print('There is no significance difference between observed and expected values')"
   ]
  },
  {
   "cell_type": "markdown",
   "id": "16985aec-999f-4c55-a8c7-d0c4b82c8e6c",
   "metadata": {},
   "source": [
    "# **Two-Way ANOVA**"
   ]
  },
  {
   "cell_type": "markdown",
   "id": "c9e00590-6d14-408c-8d5b-ff57448806b9",
   "metadata": {},
   "source": [
    "    We want to know whether course completion affects Average score in different test across Gender.\n",
    "    Design a mock dataset and perform a Two-Way ANOVA."
   ]
  },
  {
   "cell_type": "code",
   "execution_count": 5,
   "id": "4fba0f0d-68f1-4e79-96af-3d3708c93093",
   "metadata": {},
   "outputs": [
    {
     "data": {
      "text/html": [
       "<div>\n",
       "<style scoped>\n",
       "    .dataframe tbody tr th:only-of-type {\n",
       "        vertical-align: middle;\n",
       "    }\n",
       "\n",
       "    .dataframe tbody tr th {\n",
       "        vertical-align: top;\n",
       "    }\n",
       "\n",
       "    .dataframe thead th {\n",
       "        text-align: right;\n",
       "    }\n",
       "</style>\n",
       "<table border=\"1\" class=\"dataframe\">\n",
       "  <thead>\n",
       "    <tr style=\"text-align: right;\">\n",
       "      <th></th>\n",
       "      <th>Gender</th>\n",
       "      <th>Course_completion</th>\n",
       "      <th>Average_Score</th>\n",
       "    </tr>\n",
       "  </thead>\n",
       "  <tbody>\n",
       "    <tr>\n",
       "      <th>0</th>\n",
       "      <td>Male</td>\n",
       "      <td>Completed</td>\n",
       "      <td>72.34</td>\n",
       "    </tr>\n",
       "    <tr>\n",
       "      <th>1</th>\n",
       "      <td>Male</td>\n",
       "      <td>Completed</td>\n",
       "      <td>70.21</td>\n",
       "    </tr>\n",
       "    <tr>\n",
       "      <th>2</th>\n",
       "      <td>Male</td>\n",
       "      <td>Completed</td>\n",
       "      <td>69.79</td>\n",
       "    </tr>\n",
       "    <tr>\n",
       "      <th>3</th>\n",
       "      <td>Male</td>\n",
       "      <td>Not completed</td>\n",
       "      <td>66.69</td>\n",
       "    </tr>\n",
       "    <tr>\n",
       "      <th>4</th>\n",
       "      <td>Male</td>\n",
       "      <td>Not completed</td>\n",
       "      <td>62.80</td>\n",
       "    </tr>\n",
       "    <tr>\n",
       "      <th>5</th>\n",
       "      <td>Male</td>\n",
       "      <td>Not completed</td>\n",
       "      <td>59.65</td>\n",
       "    </tr>\n",
       "    <tr>\n",
       "      <th>6</th>\n",
       "      <td>Female</td>\n",
       "      <td>Completed</td>\n",
       "      <td>67.20</td>\n",
       "    </tr>\n",
       "    <tr>\n",
       "      <th>7</th>\n",
       "      <td>Female</td>\n",
       "      <td>Completed</td>\n",
       "      <td>77.38</td>\n",
       "    </tr>\n",
       "    <tr>\n",
       "      <th>8</th>\n",
       "      <td>Female</td>\n",
       "      <td>Completed</td>\n",
       "      <td>78.79</td>\n",
       "    </tr>\n",
       "    <tr>\n",
       "      <th>9</th>\n",
       "      <td>Female</td>\n",
       "      <td>Not completed</td>\n",
       "      <td>61.67</td>\n",
       "    </tr>\n",
       "    <tr>\n",
       "      <th>10</th>\n",
       "      <td>Female</td>\n",
       "      <td>Not completed</td>\n",
       "      <td>69.98</td>\n",
       "    </tr>\n",
       "    <tr>\n",
       "      <th>11</th>\n",
       "      <td>Female</td>\n",
       "      <td>Not completed</td>\n",
       "      <td>68.98</td>\n",
       "    </tr>\n",
       "  </tbody>\n",
       "</table>\n",
       "</div>"
      ],
      "text/plain": [
       "    Gender Course_completion  Average_Score\n",
       "0     Male         Completed          72.34\n",
       "1     Male         Completed          70.21\n",
       "2     Male         Completed          69.79\n",
       "3     Male     Not completed          66.69\n",
       "4     Male     Not completed          62.80\n",
       "5     Male     Not completed          59.65\n",
       "6   Female         Completed          67.20\n",
       "7   Female         Completed          77.38\n",
       "8   Female         Completed          78.79\n",
       "9   Female     Not completed          61.67\n",
       "10  Female     Not completed          69.98\n",
       "11  Female     Not completed          68.98"
      ]
     },
     "execution_count": 5,
     "metadata": {},
     "output_type": "execute_result"
    }
   ],
   "source": [
    "# Only male \n",
    "course_comp_male = df.query(\"gender == 'male'\")\n",
    "by_course_completion_male = course_comp_male.groupby('test_preparation_course').mean(numeric_only=True).stack()\n",
    "\n",
    "# Only female\n",
    "course_comp_female = df.query(\"gender == 'female'\")\n",
    "by_course_completion_female = course_comp_female.groupby('test_preparation_course').mean(numeric_only=True).stack()\n",
    "\n",
    "\n",
    "new_df = pd.DataFrame({\n",
    "    'Gender': np.repeat(['Male', 'Female'], 6),\n",
    "    'Course_completion': np.tile(np.repeat(['Completed', 'Not completed'], 3), 2),\n",
    "    'Average_Score': list(np.round(by_course_completion_male, 2)) + list(np.round(by_course_completion_female, 2))\n",
    "})\n",
    "new_df"
   ]
  },
  {
   "cell_type": "code",
   "execution_count": 6,
   "id": "c0376e04-16b8-47ac-91f6-4fdc2719b9c5",
   "metadata": {},
   "outputs": [
    {
     "data": {
      "text/html": [
       "<div>\n",
       "<style scoped>\n",
       "    .dataframe tbody tr th:only-of-type {\n",
       "        vertical-align: middle;\n",
       "    }\n",
       "\n",
       "    .dataframe tbody tr th {\n",
       "        vertical-align: top;\n",
       "    }\n",
       "\n",
       "    .dataframe thead th {\n",
       "        text-align: right;\n",
       "    }\n",
       "</style>\n",
       "<table border=\"1\" class=\"dataframe\">\n",
       "  <thead>\n",
       "    <tr style=\"text-align: right;\">\n",
       "      <th></th>\n",
       "      <th>sum_sq</th>\n",
       "      <th>df</th>\n",
       "      <th>F</th>\n",
       "      <th>PR(&gt;F)</th>\n",
       "    </tr>\n",
       "  </thead>\n",
       "  <tbody>\n",
       "    <tr>\n",
       "      <th>C(Gender)</th>\n",
       "      <td>42.262533</td>\n",
       "      <td>1.0</td>\n",
       "      <td>2.257650</td>\n",
       "      <td>0.171358</td>\n",
       "    </tr>\n",
       "    <tr>\n",
       "      <th>C(Course_completion)</th>\n",
       "      <td>175.873633</td>\n",
       "      <td>1.0</td>\n",
       "      <td>9.395110</td>\n",
       "      <td>0.015461</td>\n",
       "    </tr>\n",
       "    <tr>\n",
       "      <th>C(Gender):C(Course_completion)</th>\n",
       "      <td>0.017633</td>\n",
       "      <td>1.0</td>\n",
       "      <td>0.000942</td>\n",
       "      <td>0.976267</td>\n",
       "    </tr>\n",
       "    <tr>\n",
       "      <th>Residual</th>\n",
       "      <td>149.757600</td>\n",
       "      <td>8.0</td>\n",
       "      <td>NaN</td>\n",
       "      <td>NaN</td>\n",
       "    </tr>\n",
       "  </tbody>\n",
       "</table>\n",
       "</div>"
      ],
      "text/plain": [
       "                                    sum_sq   df         F    PR(>F)\n",
       "C(Gender)                        42.262533  1.0  2.257650  0.171358\n",
       "C(Course_completion)            175.873633  1.0  9.395110  0.015461\n",
       "C(Gender):C(Course_completion)    0.017633  1.0  0.000942  0.976267\n",
       "Residual                        149.757600  8.0       NaN       NaN"
      ]
     },
     "execution_count": 6,
     "metadata": {},
     "output_type": "execute_result"
    }
   ],
   "source": [
    "# Two-Way ANOVA\n",
    "model = ols('Average_Score ~ C(Gender) + C(Course_completion) + C(Gender):C(Course_completion)', data=new_df).fit()\n",
    "anova_table = sm.stats.anova_lm(model, typ=2)\n",
    "anova_table"
   ]
  },
  {
   "cell_type": "markdown",
   "id": "6c83d2c6-fbb2-4e01-b499-a3d7e5ff2121",
   "metadata": {},
   "source": [
    "    Gender:\n",
    "        P-value(0.1713) > 0.05, There is no significant effect of Gender on Average score of different test.\n",
    "\n",
    "    Course completion:\n",
    "        P-value(0.0154) < 0.05, There is significant effect of Course completion on Average score of different test.\n",
    "\n",
    "    Gender/Course_completion :\n",
    "        P-value(0.976) > 0.05, There is no significant interaction effect between Gender and Course completion.\n",
    "\n",
    "    This means the effect of Course completion on average score does not depend on Gender."
   ]
  },
  {
   "cell_type": "markdown",
   "id": "7ba95113-d075-4012-94ec-733b99b6ca90",
   "metadata": {},
   "source": [
    "### We want to know whether course completion and Lunch type affect Average score across different test."
   ]
  },
  {
   "cell_type": "code",
   "execution_count": 7,
   "id": "35f40713-2fc3-44e6-b474-60c6ad0dcee0",
   "metadata": {},
   "outputs": [
    {
     "data": {
      "text/html": [
       "<div>\n",
       "<style scoped>\n",
       "    .dataframe tbody tr th:only-of-type {\n",
       "        vertical-align: middle;\n",
       "    }\n",
       "\n",
       "    .dataframe tbody tr th {\n",
       "        vertical-align: top;\n",
       "    }\n",
       "\n",
       "    .dataframe thead th {\n",
       "        text-align: right;\n",
       "    }\n",
       "</style>\n",
       "<table border=\"1\" class=\"dataframe\">\n",
       "  <thead>\n",
       "    <tr style=\"text-align: right;\">\n",
       "      <th></th>\n",
       "      <th>Lunch</th>\n",
       "      <th>Course_completion</th>\n",
       "      <th>Average_Score</th>\n",
       "    </tr>\n",
       "  </thead>\n",
       "  <tbody>\n",
       "    <tr>\n",
       "      <th>0</th>\n",
       "      <td>Free meal</td>\n",
       "      <td>Completed</td>\n",
       "      <td>63.05</td>\n",
       "    </tr>\n",
       "    <tr>\n",
       "      <th>1</th>\n",
       "      <td>Free meal</td>\n",
       "      <td>Completed</td>\n",
       "      <td>69.87</td>\n",
       "    </tr>\n",
       "    <tr>\n",
       "      <th>2</th>\n",
       "      <td>Free meal</td>\n",
       "      <td>Completed</td>\n",
       "      <td>70.35</td>\n",
       "    </tr>\n",
       "    <tr>\n",
       "      <th>3</th>\n",
       "      <td>Free meal</td>\n",
       "      <td>Not completed</td>\n",
       "      <td>56.51</td>\n",
       "    </tr>\n",
       "    <tr>\n",
       "      <th>4</th>\n",
       "      <td>Free meal</td>\n",
       "      <td>Not completed</td>\n",
       "      <td>61.60</td>\n",
       "    </tr>\n",
       "    <tr>\n",
       "      <th>5</th>\n",
       "      <td>Free meal</td>\n",
       "      <td>Not completed</td>\n",
       "      <td>58.74</td>\n",
       "    </tr>\n",
       "    <tr>\n",
       "      <th>6</th>\n",
       "      <td>Standard meal</td>\n",
       "      <td>Completed</td>\n",
       "      <td>73.53</td>\n",
       "    </tr>\n",
       "    <tr>\n",
       "      <th>7</th>\n",
       "      <td>Standard meal</td>\n",
       "      <td>Completed</td>\n",
       "      <td>76.22</td>\n",
       "    </tr>\n",
       "    <tr>\n",
       "      <th>8</th>\n",
       "      <td>Standard meal</td>\n",
       "      <td>Completed</td>\n",
       "      <td>76.77</td>\n",
       "    </tr>\n",
       "    <tr>\n",
       "      <th>9</th>\n",
       "      <td>Standard meal</td>\n",
       "      <td>Not completed</td>\n",
       "      <td>68.13</td>\n",
       "    </tr>\n",
       "    <tr>\n",
       "      <th>10</th>\n",
       "      <td>Standard meal</td>\n",
       "      <td>Not completed</td>\n",
       "      <td>69.18</td>\n",
       "    </tr>\n",
       "    <tr>\n",
       "      <th>11</th>\n",
       "      <td>Standard meal</td>\n",
       "      <td>Not completed</td>\n",
       "      <td>67.60</td>\n",
       "    </tr>\n",
       "  </tbody>\n",
       "</table>\n",
       "</div>"
      ],
      "text/plain": [
       "            Lunch Course_completion  Average_Score\n",
       "0       Free meal         Completed          63.05\n",
       "1       Free meal         Completed          69.87\n",
       "2       Free meal         Completed          70.35\n",
       "3       Free meal     Not completed          56.51\n",
       "4       Free meal     Not completed          61.60\n",
       "5       Free meal     Not completed          58.74\n",
       "6   Standard meal         Completed          73.53\n",
       "7   Standard meal         Completed          76.22\n",
       "8   Standard meal         Completed          76.77\n",
       "9   Standard meal     Not completed          68.13\n",
       "10  Standard meal     Not completed          69.18\n",
       "11  Standard meal     Not completed          67.60"
      ]
     },
     "execution_count": 7,
     "metadata": {},
     "output_type": "execute_result"
    }
   ],
   "source": [
    "# Free meal\n",
    "free_meal = df.query(\"lunch == 'free/reduced'\")\n",
    "by_course_completion1 = free_meal.groupby('test_preparation_course').mean(numeric_only=True).stack()\n",
    "\n",
    "# Standard meal\n",
    "standard = df.query(\"lunch == 'standard'\")\n",
    "by_course_completion2 = standard.groupby('test_preparation_course').mean(numeric_only=True).stack()\n",
    "\n",
    "\n",
    "new_df = pd.DataFrame({\n",
    "    'Lunch': np.repeat(['Free meal', 'Standard meal'], 6),\n",
    "    'Course_completion': np.tile(np.repeat(['Completed', 'Not completed'], 3), 2),\n",
    "    'Average_Score': list(np.round(by_course_completion1, 2)) + list(np.round(by_course_completion2, 2))\n",
    "})\n",
    "new_df"
   ]
  },
  {
   "cell_type": "code",
   "execution_count": 8,
   "id": "ac9b885f-b33b-4f24-b890-6040e1b9e995",
   "metadata": {},
   "outputs": [
    {
     "data": {
      "text/html": [
       "<div>\n",
       "<style scoped>\n",
       "    .dataframe tbody tr th:only-of-type {\n",
       "        vertical-align: middle;\n",
       "    }\n",
       "\n",
       "    .dataframe tbody tr th {\n",
       "        vertical-align: top;\n",
       "    }\n",
       "\n",
       "    .dataframe thead th {\n",
       "        text-align: right;\n",
       "    }\n",
       "</style>\n",
       "<table border=\"1\" class=\"dataframe\">\n",
       "  <thead>\n",
       "    <tr style=\"text-align: right;\">\n",
       "      <th></th>\n",
       "      <th>sum_sq</th>\n",
       "      <th>df</th>\n",
       "      <th>F</th>\n",
       "      <th>PR(&gt;F)</th>\n",
       "    </tr>\n",
       "  </thead>\n",
       "  <tbody>\n",
       "    <tr>\n",
       "      <th>C(Lunch)</th>\n",
       "      <td>219.393008</td>\n",
       "      <td>1.0</td>\n",
       "      <td>32.702638</td>\n",
       "      <td>0.000445</td>\n",
       "    </tr>\n",
       "    <tr>\n",
       "      <th>C(Course_completion)</th>\n",
       "      <td>192.240075</td>\n",
       "      <td>1.0</td>\n",
       "      <td>28.655233</td>\n",
       "      <td>0.000683</td>\n",
       "    </tr>\n",
       "    <tr>\n",
       "      <th>C(Lunch):C(Course_completion)</th>\n",
       "      <td>1.928008</td>\n",
       "      <td>1.0</td>\n",
       "      <td>0.287388</td>\n",
       "      <td>0.606479</td>\n",
       "    </tr>\n",
       "    <tr>\n",
       "      <th>Residual</th>\n",
       "      <td>53.669800</td>\n",
       "      <td>8.0</td>\n",
       "      <td>NaN</td>\n",
       "      <td>NaN</td>\n",
       "    </tr>\n",
       "  </tbody>\n",
       "</table>\n",
       "</div>"
      ],
      "text/plain": [
       "                                   sum_sq   df          F    PR(>F)\n",
       "C(Lunch)                       219.393008  1.0  32.702638  0.000445\n",
       "C(Course_completion)           192.240075  1.0  28.655233  0.000683\n",
       "C(Lunch):C(Course_completion)    1.928008  1.0   0.287388  0.606479\n",
       "Residual                        53.669800  8.0        NaN       NaN"
      ]
     },
     "execution_count": 8,
     "metadata": {},
     "output_type": "execute_result"
    }
   ],
   "source": [
    "# Two-Way ANOVA\n",
    "model = ols('Average_Score ~ C(Lunch) + C(Course_completion) + C(Lunch):C(Course_completion)', data=new_df).fit()\n",
    "anova_table = sm.stats.anova_lm(model, typ=2)\n",
    "anova_table"
   ]
  },
  {
   "cell_type": "markdown",
   "id": "5002bf3a-6ca4-4d29-b196-497481a86ce0",
   "metadata": {},
   "source": [
    "    Lunch:\n",
    "        P-value(0.0004) < 0.05, There is no significant effect of Lunch on Average score of different test.\n",
    "    \n",
    "    Course completion:\n",
    "        P-value(0.0006) < 0.05, There is significant effect of Course completion on Average score of different test.\n",
    "    \n",
    "    Gender/Course_completion :\n",
    "        P-value(0.6064) > 0.05, There is no significant interaction effect between Lunch and Course completion.\n",
    "    \n",
    "    This means the effect of Course completion on average score does not depend on Gender.\n",
    "\n"
   ]
  },
  {
   "cell_type": "markdown",
   "id": "5714c7eb-7137-4a3f-89ab-5e6618e5d928",
   "metadata": {},
   "source": [
    "# **One-sample T-test**"
   ]
  },
  {
   "cell_type": "markdown",
   "id": "880f3747-e1d1-4112-a108-4c8eb56aedce",
   "metadata": {},
   "source": [
    "    Hypothesis state:\n",
    "        Null hypothesis : there is no significance difference between the different test score means.\n",
    "        Altenative hypothsis : There is significance difference between the different test score means.\n",
    "    \n",
    "    Significance level = 0.05"
   ]
  },
  {
   "cell_type": "markdown",
   "id": "91d53bad-2dc2-46e5-86fe-9351bf2df9d5",
   "metadata": {},
   "source": [
    "### **Maths score**"
   ]
  },
  {
   "cell_type": "code",
   "execution_count": 9,
   "id": "8f44c4be-5d33-43b9-afc0-27ecdb2c40b0",
   "metadata": {},
   "outputs": [
    {
     "name": "stdout",
     "output_type": "stream",
     "text": [
      "T-stats : -0.07\n",
      "P-value : 0.9472\n",
      "\n",
      "Since 0.9472 > 0.05, Fail to reject Null hypothesis\n",
      "There is no significance difference between the population mean and sample mean\n"
     ]
    }
   ],
   "source": [
    "maths_population_mean = df['math_score'].mean()\n",
    "np.random.seed(1)\n",
    "maths_sample = np.random.choice(df['math_score'], size=25, replace=True)\n",
    "\n",
    "t_stats, p_value = stats.ttest_1samp(maths_sample, maths_population_mean)\n",
    "print(f'T-stats : {t_stats:0.2f}')\n",
    "print(f'P-value : {p_value:0.4f}\\n')\n",
    "\n",
    "if p_value < 0.05:\n",
    "    print(f'Since {p_value:0.4f} < 0.05, Reject Null hypothesis')\n",
    "    print('There is significance difference between the population mean and sample mean')\n",
    "else:\n",
    "    print(f'Since {p_value:.4f} > 0.05, Fail to reject Null hypothesis')\n",
    "    print('There is no significance difference between the population mean and sample mean')"
   ]
  },
  {
   "cell_type": "markdown",
   "id": "bce6e068-c8c9-45f6-80ac-67796821c37b",
   "metadata": {},
   "source": [
    "### **Reading score**"
   ]
  },
  {
   "cell_type": "code",
   "execution_count": 10,
   "id": "d47e4ec1-db60-4128-ab5c-2f303e0e8fc8",
   "metadata": {},
   "outputs": [
    {
     "name": "stdout",
     "output_type": "stream",
     "text": [
      "T-stats : -1.05\n",
      "P-value : 0.3031\n",
      "\n",
      "Since 0.3031 > 0.05, Fail to reject Null hypothesis\n",
      "There is no significance difference between the population mean and sample mean\n"
     ]
    }
   ],
   "source": [
    "readig_population_mean = df['reading_score'].mean()\n",
    "np.random.seed(1)\n",
    "reading_sample = np.random.choice(df['reading_score'], size=25, replace=True)\n",
    "t_stats, p_value = stats.ttest_1samp(maths_sample, readig_population_mean)\n",
    "print(f'T-stats : {t_stats:0.2f}')\n",
    "print(f'P-value : {p_value:0.4f}\\n')\n",
    "\n",
    "if p_value < 0.05:\n",
    "    print(f'Since {p_value:0.4f} < 0.05, Reject Null hypothesis')\n",
    "    print('There is significance difference between the population mean and sample mean')\n",
    "else:\n",
    "    print(f'Since {p_value:.4f} > 0.05, Fail to reject Null hypothesis')\n",
    "    print('There is no significance difference between the population mean and sample mean')"
   ]
  },
  {
   "cell_type": "markdown",
   "id": "818f1b2a-6c5a-4276-b947-19dcf30448e1",
   "metadata": {},
   "source": [
    "### **writing_score**"
   ]
  },
  {
   "cell_type": "code",
   "execution_count": 11,
   "id": "67f81375-f543-48b7-97bb-e7cc94a97a10",
   "metadata": {},
   "outputs": [
    {
     "name": "stdout",
     "output_type": "stream",
     "text": [
      "T-stats : -0.70\n",
      "P-value : 0.4934\n",
      "\n",
      "Since 0.4934 > 0.05, Fail to reject Null hypothesis\n",
      "There is no significance difference between the population mean and sample mean\n"
     ]
    }
   ],
   "source": [
    "writing_population_mean = df['writing_score'].mean()\n",
    "np.random.seed(1)\n",
    "writing_sample = np.random.choice(df['writing_score'], size=25, replace=True)\n",
    "t_stats, p_value = stats.ttest_1samp(maths_sample, writing_population_mean)\n",
    "print(f'T-stats : {t_stats:0.2f}')\n",
    "print(f'P-value : {p_value:0.4f}\\n')\n",
    "\n",
    "if p_value < 0.05:\n",
    "    print(f'Since {p_value:0.4f} < 0.05, Reject Null hypothesis')\n",
    "    print('There is significance difference between the population mean and sample mean')\n",
    "else:\n",
    "    print(f'Since {p_value:.4f} > 0.05, Fail to reject Null hypothesis')\n",
    "    print('There is no significance difference between the population mean and sample mean')"
   ]
  },
  {
   "cell_type": "markdown",
   "id": "6a5697ad-577f-4714-aad1-5279e231e7d7",
   "metadata": {},
   "source": [
    "# **Two-sample T-test**"
   ]
  },
  {
   "cell_type": "markdown",
   "id": "bf32492f-5bd1-4c70-95a7-7f4082885e4e",
   "metadata": {},
   "source": [
    "    Hypothesis state:\n",
    "        Null hypothesis : there is no significance difference between two sample.\n",
    "        Altenative hypothsis : There is significance difference between two sample.\n",
    "    \n",
    "    Significance level = 0.05\n",
    "\n"
   ]
  },
  {
   "cell_type": "code",
   "execution_count": 12,
   "id": "43beea26-a706-4531-81d2-062ead9beab8",
   "metadata": {},
   "outputs": [
    {
     "name": "stdout",
     "output_type": "stream",
     "text": [
      "T-stats : -0.30\n",
      "P-value : 0.7631\n",
      "\n",
      "Since 0.7631 > 0.05, Fail to reject Null hypothesis\n",
      "There is no significance difference between the reading average score and writing average score\n"
     ]
    }
   ],
   "source": [
    "np.random.seed(1)\n",
    "reading_sample = np.random.choice(df['reading_score'], size=25, replace=True) # For reading score\n",
    "writing_sample = np.random.choice(df['writing_score'], size=25, replace=True) # For writing score\n",
    "\n",
    "t_stats, p_value = stats.ttest_ind(reading_sample, writing_sample)\n",
    "print(f'T-stats : {t_stats:0.2f}')\n",
    "print(f'P-value : {p_value:0.4f}\\n')\n",
    "\n",
    "if p_value < 0.05:\n",
    "    print(f'Since {p_value:0.4f} < 0.05, Reject Null hypothesis')\n",
    "    print('There is significance difference between the reading average score and writing average score')\n",
    "else:\n",
    "    print(f'Since {p_value:.4f} > 0.05, Fail to reject Null hypothesis')\n",
    "    print('There is no significance difference between the reading average score and writing average score')"
   ]
  },
  {
   "cell_type": "code",
   "execution_count": null,
   "id": "e7a5a502-79be-4713-ba5b-ef97a89c565c",
   "metadata": {},
   "outputs": [],
   "source": []
  },
  {
   "cell_type": "code",
   "execution_count": null,
   "id": "11f894c2-7d17-4df7-b136-cb2b44337a62",
   "metadata": {},
   "outputs": [],
   "source": []
  }
 ],
 "metadata": {
  "kernelspec": {
   "display_name": "base",
   "language": "python",
   "name": "python3"
  },
  "language_info": {
   "codemirror_mode": {
    "name": "ipython",
    "version": 3
   },
   "file_extension": ".py",
   "mimetype": "text/x-python",
   "name": "python",
   "nbconvert_exporter": "python",
   "pygments_lexer": "ipython3",
   "version": "3.12.7"
  }
 },
 "nbformat": 4,
 "nbformat_minor": 5
}
